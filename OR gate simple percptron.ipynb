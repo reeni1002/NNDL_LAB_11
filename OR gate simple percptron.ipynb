# Importing library
import numpy as np


#Initializing variables for OR Gate
X = np.asarray([[0,0],[0,1],[1,0],[1,1]])
W = np.asarray([1,1])
Wsum_Arr = np.dot(X,W)
Theta = 1

y_pred = np.asarray([0,0,0,0])


# STEP Function
def step(NW,n):
  if (NW[n]>=Theta):
    return 1
  else:
    return 0


for i in range(X.shape[0]):
  y_pred[i] = step(Wsum_Arr,i)

print(y_pred) #Expected Output: [0,1,1,1]
